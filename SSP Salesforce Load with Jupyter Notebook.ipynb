{
 "cells": [
  {
   "cell_type": "markdown",
   "metadata": {},
   "source": [
    "## Set up our environment"
   ]
  },
  {
   "cell_type": "code",
   "execution_count": null,
   "metadata": {},
   "outputs": [],
   "source": [
    "import sys\n",
    "print(sys.executable)"
   ]
  },
  {
   "cell_type": "code",
   "execution_count": null,
   "metadata": {},
   "outputs": [],
   "source": [
    "import pandas as pd\n",
    "import numpy as np\n",
    "from simple_salesforce import Salesforce\n",
    "import math\n",
    "from datetime import datetime\n",
    "from datetime import timedelta "
   ]
  },
  {
   "cell_type": "markdown",
   "metadata": {},
   "source": [
    "## Decide if you want to view success messages when creating records"
   ]
  },
  {
   "cell_type": "code",
   "execution_count": null,
   "metadata": {},
   "outputs": [],
   "source": [
    "log_info = False"
   ]
  },
  {
   "cell_type": "markdown",
   "metadata": {},
   "source": [
    "## Load CRM Data into panda data frame"
   ]
  },
  {
   "cell_type": "code",
   "execution_count": null,
   "metadata": {},
   "outputs": [],
   "source": [
    "#   create df from crm export\n",
    "excel_file = r\"C:\\SSP Salesforce Load with Jupyter Template.xlsx\"\n",
    "crm_df = pd.read_excel(excel_file)"
   ]
  },
  {
   "cell_type": "code",
   "execution_count": null,
   "metadata": {},
   "outputs": [],
   "source": [
    "# show list of columns in the spreadsheet\n",
    "crm_df.columns = [c.lower().replace(' ', '_') for c in crm_df.columns]\n",
    "crm_df.columns"
   ]
  },
  {
   "cell_type": "code",
   "execution_count": null,
   "metadata": {},
   "outputs": [],
   "source": [
    "# accountList = crm_df.potential_customer.unique()\n",
    "accountList = crm_df.account_name.unique()\n",
    "len(accountList)"
   ]
  },
  {
   "cell_type": "markdown",
   "metadata": {},
   "source": [
    "## Initialize the salesforce connection"
   ]
  },
  {
   "cell_type": "code",
   "execution_count": null,
   "metadata": {},
   "outputs": [],
   "source": [
    "# info on the token: https://success.salesforce.com/answers?id=90630000000glADAAY\n",
    "sfToken = 'enter_token_here'\n",
    "sfUsername = 'enter_username_here'\n",
    "sfPassword = 'enter_password_here'\n",
    "sf = Salesforce(username=sfUsername, password=sfPassword, security_token=sfToken, client_id='Data Migration Application')"
   ]
  },
  {
   "cell_type": "markdown",
   "metadata": {},
   "source": [
    "## Build out dict with ids of salesforce users"
   ]
  },
  {
   "cell_type": "code",
   "execution_count": null,
   "metadata": {},
   "outputs": [],
   "source": [
    "# create the users manually in salesforce, a lot of decisions have to be made during that step so unless you\n",
    "# have tons of users its easier to do that part using the salesforce interface\n",
    "\n",
    "# build user dictionary (key: Name, value: Id)\n",
    "userDict = sf.query_all(\"SELECT Id, Name FROM User\")\n",
    "user_dict = dict()\n",
    "keys = iter(userDict.keys())\n",
    "next(keys)\n",
    "next(keys)\n",
    "for key in keys:\n",
    "    records = userDict[key]\n",
    "    for record in records:\n",
    "        user_dict[record['Name']] = record['Id']\n",
    "user_dict"
   ]
  },
  {
   "cell_type": "markdown",
   "metadata": {},
   "source": [
    "## A bunch of functions we'll use to parse the rows of data we're migrating"
   ]
  },
  {
   "cell_type": "code",
   "execution_count": null,
   "metadata": {},
   "outputs": [],
   "source": [
    "def parse_string(value):\n",
    "    if not isinstance(value, float):\n",
    "        return value\n",
    "    else:\n",
    "        return None"
   ]
  },
  {
   "cell_type": "code",
   "execution_count": null,
   "metadata": {},
   "outputs": [],
   "source": [
    "def parse_number(value):\n",
    "    if math.isnan(value):\n",
    "        return 0.0\n",
    "    else:\n",
    "        return value\n",
    "    "
   ]
  },
  {
   "cell_type": "code",
   "execution_count": null,
   "metadata": {},
   "outputs": [],
   "source": [
    "def get_active(value):\n",
    "    if not isinstance(value, float) and value == 'Active':\n",
    "        return True\n",
    "    else:\n",
    "        return False;"
   ]
  },
  {
   "cell_type": "code",
   "execution_count": null,
   "metadata": {},
   "outputs": [],
   "source": [
    "def get_bool(value):\n",
    "    if value == \"Y\":\n",
    "        return True\n",
    "    else:\n",
    "        return False"
   ]
  },
  {
   "cell_type": "code",
   "execution_count": null,
   "metadata": {},
   "outputs": [],
   "source": [
    "# get date from pandas timestamps\n",
    "def parse_date(value):\n",
    "    if not isinstance(value, float) and value is not pd.NaT:\n",
    "        return value.date()\n",
    "    else:\n",
    "        return None"
   ]
  },
  {
   "cell_type": "markdown",
   "metadata": {},
   "source": [
    "## Migrate accounts"
   ]
  },
  {
   "cell_type": "code",
   "execution_count": null,
   "metadata": {},
   "outputs": [],
   "source": [
    "# loop through data frame and create new accounts while we create dict of new ids and account names\n",
    "print(\"Migrating Accounts\")\n",
    "new_accounts = dict()\n",
    "for new_account in crm_df.itertuples():\n",
    "    name = getattr(new_account, \"new_account_name_\")  \n",
    "    if log_info:\n",
    "        print(\"Creating account {}...\".format(name))\n",
    "    typ = parse_string(getattr(new_account, \"type\"))\n",
    "    ws = parse_string(getattr(new_account, \"website\"))\n",
    "    desc  = parse_string(getattr(new_account, \"description\"))\n",
    "    industry  = parse_string(getattr(new_account, \"industry\"))\n",
    "    owner_id = \"\"\n",
    "    master = getattr(new_account, \"master_account_owner\")\n",
    "    try:\n",
    "        owner_id = user_dict[master]\n",
    "    except:\n",
    "        print(\"User {} missing from salesforce. Skipping creation of account '{}'\".format(master, name))\n",
    "        continue\n",
    "    new_obj = { \"Name\": name, \"Type\": typ, \"Website\": ws, \"Description\": desc, \"Industry\": industry, \"OwnerId\": owner_id }    \n",
    "    res = sf.Account.create(new_obj)\n",
    "    new_accounts[getattr(new_account, \"account_name\")] = res[\"id\"]\n",
    "    if log_info:\n",
    "        print(\"Successfully created account {}...\".format(name))\n",
    "print(\"Finished\")"
   ]
  },
  {
   "cell_type": "markdown",
   "metadata": {},
   "source": [
    "## Load opportunites into data frame "
   ]
  },
  {
   "cell_type": "code",
   "execution_count": null,
   "metadata": {},
   "outputs": [],
   "source": [
    "opps = pd.read_excel(excel_file, sheet_name='Opportunities')\n",
    "# show list of columns in the spreadsheet\n",
    "opps.columns = [c.lower().replace(' ', '_') for c in opps.columns]\n",
    "opps.columns"
   ]
  },
  {
   "cell_type": "code",
   "execution_count": null,
   "metadata": {},
   "outputs": [],
   "source": [
    "sf = Salesforce(username=sfUsername, password=sfPassword, security_token=sfToken, client_id='Data Migration Application')"
   ]
  },
  {
   "cell_type": "markdown",
   "metadata": {},
   "source": [
    "## Create opportunties"
   ]
  },
  {
   "cell_type": "code",
   "execution_count": null,
   "metadata": {},
   "outputs": [],
   "source": [
    "iteration = 0\n",
    "added_count = 0\n",
    "for new_opp in opps.itertuples():\n",
    "    iteration += 1\n",
    "    if iteration % 500 == 0:\n",
    "        print(iteration)\n",
    "        sf = Salesforce(username=sfUsername, password=sfPassword, security_token=sfToken, client_id='Data Migration Application')\n",
    "        \n",
    "    opp_acct_name = getattr(new_opp, \"account_name\")\n",
    "    name = getattr(new_opp, \"opportunity_name\")\n",
    "    try:\n",
    "        acct_id = new_accounts[opp_acct_name]\n",
    "    except:\n",
    "        print(\"Account '{}' missing. Skipping creation of opportunity '{}'...\".format(opp_acct_name, name))\n",
    "        continue\n",
    "    try:\n",
    "        owner = getattr(new_opp, \"opportunity_owner\")\n",
    "        owner = owner.strip()\n",
    "        owner_id = user_dict[owner]\n",
    "    except:\n",
    "        print(\"User {} missing from salesforce. Skipping creation of opportunity '{}'\".format(owner, name))        \n",
    "        continue\n",
    "        \n",
    "    stage = getattr(new_opp, \"stage\")\n",
    "    prob = float(parse_number(getattr(new_opp, \"probability\")))\n",
    "    \n",
    "    close = parse_date(getattr(new_opp, \"close_date\"))            \n",
    "\n",
    "    if close is None:\n",
    "        print(\"Skipping creation of opportunity '{}' due to missing close date\".format(name))\n",
    "        continue\n",
    "\n",
    "    close_str = close.isoformat()\n",
    "            \n",
    "    lead = parse_string(getattr(new_opp, \"lead_source\"))\n",
    "    \n",
    "    \n",
    "    new_opp_obj = { \"OwnerId\": owner_id, \"AccountId\": acct_id, \"Name\": name,\n",
    "                  \"StageName\": stage, \"CloseDate\": close_str,\n",
    "                  \"LeadSource\": lead, }\n",
    "    try:\n",
    "        res = sf.Opportunity.create(new_opp_obj)        \n",
    "        if log_info:\n",
    "            print(\"Created opportunity '{}' for account '{}'...\".format(name, opp_acct_name))        \n",
    "    except Exception as e:\n",
    "        print(\"Error creating opporunity '{}' for owner {}\".format(name, owner))\n",
    "        print (e)        \n",
    "        break\n",
    "    added_count += 1\n",
    "        \n",
    "print(\"Migrated {} opportunities\".format(added_count))\n",
    "    "
   ]
  }
 ],
 "metadata": {
  "kernelspec": {
   "display_name": "Python 3",
   "language": "python",
   "name": "python3"
  },
  "language_info": {
   "codemirror_mode": {
    "name": "ipython",
    "version": 3
   },
   "file_extension": ".py",
   "mimetype": "text/x-python",
   "name": "python",
   "nbconvert_exporter": "python",
   "pygments_lexer": "ipython3",
   "version": "3.6.6"
  }
 },
 "nbformat": 4,
 "nbformat_minor": 2
}
